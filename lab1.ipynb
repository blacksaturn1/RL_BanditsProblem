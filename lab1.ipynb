{
  "nbformat": 4,
  "nbformat_minor": 0,
  "metadata": {
    "colab": {
      "provenance": [],
      "toc_visible": true,
      "authorship_tag": "ABX9TyMgwtELJU347iR+8vhtMdtu",
      "include_colab_link": true
    },
    "kernelspec": {
      "name": "python3",
      "display_name": "Python 3"
    },
    "language_info": {
      "name": "python"
    }
  },
  "cells": [
    {
      "cell_type": "markdown",
      "metadata": {
        "id": "view-in-github",
        "colab_type": "text"
      },
      "source": [
        "<a href=\"https://colab.research.google.com/github/blacksaturn1/RL_BanditsProblem/blob/main/lab1.ipynb\" target=\"_parent\"><img src=\"https://colab.research.google.com/assets/colab-badge.svg\" alt=\"Open In Colab\"/></a>"
      ]
    },
    {
      "cell_type": "markdown",
      "source": [
        "# Problem"
      ],
      "metadata": {
        "id": "6cUHUKuf9ePU"
      }
    },
    {
      "cell_type": "markdown",
      "source": [
        "Figure 2.2 compares a greedy method with two ε-greedy methods (ε = 0.01 and ε = 0.1), as described above, on the 10-armed testbed. All the methods formed their action-value estimates using the sample-average technique. The upper graph shows the increase in expected reward with experience. The greedy method improved slightly faster than the other methods at the very beginning, but then leveled off at a lower level. It achieved a reward-per-step of only about 1, compared with the best possible of about 1.55 on this testbed. The greedy method performed significantly worse in the long run because it often got stuck performing suboptimal actions. The lower graph shows that the greedy method found the optimal action in only approximately one-third of the tasks. In the other two-thirds, its initial samples of the optimal action were disappointing, and it never returned to it. The ε-greedy methods eventually performed better because they continued to explore and to improve their chances of recognizing the optimal action. The ε = 0.1 method explored more, and usually found the optimal action earlier, but it never selected that action more than 91% of the time. The ε = 0.01 method improved more slowly, but eventually would perform better than the ε = 0.1 method on both performance measures shown in the figure. It is also possible to reduce ε over time to try to get the best of both high and low values.\n",
        "\n",
        "Sutton, Richard S.; Barto, Andrew G.. Reinforcement Learning, second edition (Adaptive Computation and Machine Learning series) (pp. 29-30). MIT Press. Kindle Edition."
      ],
      "metadata": {
        "id": "A5D37T1ipgeH"
      }
    },
    {
      "cell_type": "markdown",
      "source": [
        "\n",
        "\n"
      ],
      "metadata": {
        "id": "PB4_RmBQ-ks5"
      }
    },
    {
      "cell_type": "markdown",
      "source": [
        "# Methods"
      ],
      "metadata": {
        "id": "hrOlpsHq_2cV"
      }
    },
    {
      "cell_type": "markdown",
      "source": [
        "Create methods to perform steps per run, for many runs, per given epsilon algorithm"
      ],
      "metadata": {
        "id": "I4aCEEzss77I"
      }
    },
    {
      "cell_type": "code",
      "execution_count": null,
      "metadata": {
        "id": "i8T0vbr5pbG1"
      },
      "outputs": [],
      "source": [
        "def sample_running_average(current_reward,current_average,previous_step):\n",
        "  current_step=previous_step+1\n",
        "  new_average = current_average + 1.0/current_step*(current_reward-current_average)\n",
        "  return (new_average,current_step)"
      ]
    },
    {
      "cell_type": "code",
      "source": [
        "import numpy as np\n",
        "def randomReward(mu,sigma,iterations):\n",
        "  R_t=np.random.default_rng().normal(mu, sigma, iterations)\n",
        "  return R_t"
      ],
      "metadata": {
        "id": "4TKvMgTSGBDd"
      },
      "execution_count": null,
      "outputs": []
    },
    {
      "cell_type": "code",
      "source": [
        "def bandit(action,q_a,debug):\n",
        "  if(debug):\n",
        "    print(\"<action, type>\",action,type(action))\n",
        "  R_t = randomReward(q_a,1,1)\n",
        "  return R_t[0]\n"
      ],
      "metadata": {
        "id": "fSbM7_V1N-B-"
      },
      "execution_count": null,
      "outputs": []
    },
    {
      "cell_type": "code",
      "source": [
        "def createBanditsProblem(kArms,problem_iterations):\n",
        "  # Make q(a) for each problem\n",
        "  q_a = []\n",
        "  mu, sigma = 0, 1 # mean and standard deviation\n",
        "  for x in range(kArms):\n",
        "    q_a.append(np.random.default_rng().normal(mu, sigma, problem_iterations))\n",
        "  return q_a\n",
        "\n",
        "\n",
        "q_a_test = createBanditsProblem(10,2)\n",
        "print(q_a_test[0][0])"
      ],
      "metadata": {
        "colab": {
          "base_uri": "https://localhost:8080/"
        },
        "id": "Mnq3TxTAdMeB",
        "outputId": "e6ffb237-b9e8-4cef-e678-f03ce6d8aa65"
      },
      "execution_count": null,
      "outputs": [
        {
          "output_type": "stream",
          "name": "stdout",
          "text": [
            "-0.595940638488268\n"
          ]
        }
      ]
    },
    {
      "cell_type": "code",
      "source": [
        "\n",
        "import numpy as np\n",
        "import random\n",
        "\n",
        "def kArmedBanditSimulation(banditSimNumber,kArms,q_a,epsilon,steps,debug):\n",
        "\n",
        "  Q_a = [0 for x in range(kArms)]\n",
        "  N_a = [0 for x in range(kArms)]\n",
        "  population = [0, 1]\n",
        "  randomAction_weights = [1-epsilon, epsilon]\n",
        "\n",
        "  # average rewards\n",
        "  R_t_perStep=[]\n",
        "  optimalActionSelectedForStep_perStep=[]\n",
        "  qa_max_value=-1\n",
        "  qa_max_action=-1\n",
        "\n",
        "  for x in range(kArms):\n",
        "    if(qa_max_value < q_a[x][banditSimNumber]):\n",
        "      qa_max_value = q_a[x][banditSimNumber]\n",
        "      qa_max_action=x\n",
        "\n",
        "  for t in range(steps):\n",
        "    # choose action\n",
        "    isRandomAction=choices(population, randomAction_weights)[0]\n",
        "    if(debug):\n",
        "      print(\"Is Random Action?\", isRandomAction)\n",
        "\n",
        "    if(isRandomAction):\n",
        "      action = random.randint(0, 9)\n",
        "      if(debug):\n",
        "        print('Random action:',action)\n",
        "    else:\n",
        "      action_value_max = max(Q_a)\n",
        "      if(debug):\n",
        "          print(\"Max value action:\",action_value_max)\n",
        "      # Select actions which have max value randomly\n",
        "      matchingActionValues = [x for x in Q_a if x==action_value_max ]\n",
        "      if(debug):\n",
        "          print(\"matchingActionValues\",matchingActionValues)\n",
        "      if(len(matchingActionValues)>1):\n",
        "        nMatch = random.randint(0, len(matchingActionValues))\n",
        "        pos = 0\n",
        "        if(debug):\n",
        "          print(\"nMatch\",nMatch)\n",
        "        for n in range(nMatch+1):\n",
        "          pos = Q_a.index(action_value_max)\n",
        "          action = pos\n",
        "          if(debug):\n",
        "            print(\"a1\",action)\n",
        "      else:\n",
        "        action = Q_a.index(matchingActionValues[0])\n",
        "        if(debug):\n",
        "            print(\"a2\",action)\n",
        "      if(debug):\n",
        "          print('Action selected:',action)\n",
        "\n",
        "    R_t = bandit(action,q_a[action][banditSimNumber],debug)\n",
        "    if(debug):\n",
        "      print(\"bandit() results R_t: \",R_t)\n",
        "    Q_a[action],N_a[action] = sample_running_average(R_t,Q_a[action],N_a[action])\n",
        "    if(debug):\n",
        "       print(\"Action Value, Count\",Q_a[action],N_a[action])\n",
        "    R_t_perStep.append(R_t)\n",
        "    optimalActionSelectedForStep=0\n",
        "    if(action == qa_max_action):\n",
        "      optimalActionSelectedForStep=1\n",
        "    optimalActionSelectedForStep_perStep.append(optimalActionSelectedForStep)\n",
        "  return q_a , Q_a, N_a,R_t_perStep, optimalActionSelectedForStep_perStep"
      ],
      "metadata": {
        "id": "_jZTz_HmBZTY"
      },
      "execution_count": null,
      "outputs": []
    },
    {
      "cell_type": "code",
      "source": [
        "import matplotlib.pyplot as plt\n",
        "\n",
        "def runSimulations(kArms, runs, steps, epsilon=[]):\n",
        "  kArms, runs, steps, epsilon=kArms, runs, steps, epsilon\n",
        "  label=''\n",
        "  x_plot = [x for x in range(1,steps+1)]\n",
        "  # Initialise the subplot function using number of rows and columns\n",
        "  figure, axis = plt.subplots(2, 1)\n",
        "\n",
        "  for e in epsilon:\n",
        "    R_t_avgRun_perStep=[0 for x in range(steps)]\n",
        "    accuracyCount_sumOfRuns_perStep=[0 for x in range(steps)]\n",
        "    accuracy_perStep=[0 for x in range(steps)]\n",
        "    for r in range(runs):\n",
        "      qa, Qa, Na,Rt_perStep,optimalActionSelectedForStep_perStep = kArmedBanditSimulation(r,kArms,q_a,e,steps,debug)\n",
        "      if(debug):\n",
        "        print(\"Run #\",r)\n",
        "        print(\"Rt_perStep\",len(Rt_perStep))\n",
        "      for step in range(len(Rt_perStep)):\n",
        "          if(debug):\n",
        "            print(\"B\",R_t_avgRun_perStep)\n",
        "          n=r+1\n",
        "          R_t_avgRun_perStep[step],_ = sample_running_average(Rt_perStep[step],R_t_avgRun_perStep[step],n)\n",
        "          #accuracy_avgRun_perStep[step],_ = sample_running_average(optimalActionSelectedForStep_perStep[step]/100.0,accuracy_avgRun_perStep[step],n)\n",
        "          accuracyCount_sumOfRuns_perStep[step] += optimalActionSelectedForStep_perStep[step]\n",
        "          if(debug):\n",
        "            print(\"A\",R_t_avgRun_perStep)\n",
        "    accuracy_perStep = [ accuracyCount_sumOfRuns_perStep[x]/runs*1.0 for x in range(len(accuracyCount_sumOfRuns_perStep)) ]\n",
        "    if e==0:\n",
        "      label = \"E={} (greedy)\".format(e)\n",
        "    else:\n",
        "      label = \"E={}\".format(e)\n",
        "    print(\"Completed epsilon:\",e)\n",
        "    axis[0].plot(x_plot, R_t_avgRun_perStep, label=label)\n",
        "    axis[1].plot(x_plot, accuracy_perStep, label=label)\n",
        "\n",
        "  axis[0].plot()\n",
        "  axis[0].set_xlabel(\"Steps\")\n",
        "  axis[0].set_ylabel(\"Average reward\")\n",
        "  axis[0].set_title(\"10 Armed Test Bed\")\n",
        "  axis[0].legend()\n",
        "\n",
        "  axis[1].plot()\n",
        "  axis[1].set_xlabel(\"Steps\")\n",
        "  axis[1].set_ylabel(\"% Optimal Action\")\n",
        "  axis[1].legend()\n",
        "\n",
        "\n",
        "  return"
      ],
      "metadata": {
        "id": "jGAs2huLJRb5"
      },
      "execution_count": null,
      "outputs": []
    },
    {
      "cell_type": "markdown",
      "source": [
        "# Simulation"
      ],
      "metadata": {
        "id": "zZ4YnP-4dtJW"
      }
    },
    {
      "cell_type": "markdown",
      "source": [
        "Run 10 Armed Bandit for 2000 runs per epsilon with each having 2000 steps"
      ],
      "metadata": {
        "id": "Gu15WcROeD7L"
      }
    },
    {
      "cell_type": "code",
      "source": [
        "debug=False\n",
        "kArms, runs, steps, epsilon=10,2000,1000,[0.0,0.1,0.01]\n",
        "q_a=createBanditsProblem(kArms,runs)\n",
        "runSimulations(kArms, runs, steps, epsilon=epsilon)"
      ],
      "metadata": {
        "colab": {
          "base_uri": "https://localhost:8080/",
          "height": 347
        },
        "id": "K12nDpwYJauF",
        "outputId": "9e2c4499-6a88-4f6d-c472-323105f5f17c"
      },
      "execution_count": null,
      "outputs": [
        {
          "output_type": "stream",
          "name": "stdout",
          "text": [
            "Completed epsilon: 0.0\n",
            "Completed epsilon: 0.1\n",
            "Completed epsilon: 0.01\n"
          ]
        },
        {
          "output_type": "display_data",
          "data": {
            "text/plain": [
              "<Figure size 432x288 with 2 Axes>"
            ],
            "image/png": "[encoded data removed]"
          },
          "metadata": {
            "needs_background": "light"
          }
        }
      ]
    },
    {
      "cell_type": "markdown",
      "source": [
        "# Helpers"
      ],
      "metadata": {
        "id": "wy6XQph0dTrU"
      }
    },
    {
      "cell_type": "code",
      "source": [
        "total = 0\n",
        "[total := total + x for x in [1, 2, 3, 4, 5]]\n",
        "print(total)\n",
        "total = [x for x in [1, 2, 3, 4, 5]]\n",
        "print(total)\n",
        "sum(total)"
      ],
      "metadata": {
        "colab": {
          "base_uri": "https://localhost:8080/"
        },
        "id": "f5CMFTu0IH62",
        "outputId": "5b43e148-f0f7-4e29-eb89-bd30cd8c521e"
      },
      "execution_count": null,
      "outputs": [
        {
          "output_type": "stream",
          "name": "stdout",
          "text": [
            "15\n",
            "[1, 2, 3, 4, 5]\n"
          ]
        },
        {
          "output_type": "execute_result",
          "data": {
            "text/plain": [
              "15"
            ]
          },
          "metadata": {},
          "execution_count": 94
        }
      ]
    },
    {
      "cell_type": "code",
      "source": [
        "from random import choices\n",
        "def testStochasticOutcomes():\n",
        "  population = [0, 1]\n",
        "  action1_weights = [0.8, 0.2]\n",
        "  action2_weights = [0.9, 0.1]\n",
        "  action1_reward=choices(population, action1_weights)\n",
        "  action2_reward=choices(population, action2_weights)\n",
        "  print(action1_reward[0])\n",
        "  print(action2_reward[0])"
      ],
      "metadata": {
        "id": "ad8BQuIR1i-s"
      },
      "execution_count": null,
      "outputs": []
    }
  ]
}